{
 "cells": [
  {
   "cell_type": "code",
   "execution_count": 1,
   "metadata": {},
   "outputs": [
    {
     "name": "stdout",
     "output_type": "stream",
     "text": [
      "HTML 文件已生成：index.html\n"
     ]
    }
   ],
   "source": [
    "import os\n",
    "\n",
    "# set \n",
    "root_dir = r'Z:/Manz/confluence'\n",
    "output_file = 'index.html'\n",
    "\n",
    "# write html info in file\n",
    "with open(output_file, 'w', encoding='utf-8') as f:\n",
    "    f.write('<!DOCTYPE html>\\n<html lang=\"en\">\\n<head>\\n')\n",
    "    f.write('<meta charset=\"UTF-8\">\\n<title>Document Index</title>\\n</head>\\n<body>\\n')\n",
    "    f.write('<h1>My Local Document Website</h1>\\n<ul>\\n')\n",
    "\n",
    "    # iterate all folder and files\n",
    "    for root, dirs, files in os.walk(root_dir):\n",
    "        for file in files:\n",
    "            # get path\n",
    "            file_path = os.path.join(root, file)\n",
    "            relative_path = os.path.relpath(file_path, root_dir)\n",
    "            \n",
    "            # 忽略非 MHTML 和 PDF 文件\n",
    "            # if file.endswith('.mhtml') or file.endswith('.pdf'):\n",
    "            # 写入文件链接到HTML\n",
    "            f.write(f'<li><a href=\"{relative_path}\">{file}</a></li>\\n')\n",
    "\n",
    "    f.write('</ul>\\n</body>\\n</html>')\n",
    "\n",
    "print(f\"HTML 文件已生成：{output_file}\")\n"
   ]
  }
 ],
 "metadata": {
  "kernelspec": {
   "display_name": "venv",
   "language": "python",
   "name": "python3"
  },
  "language_info": {
   "codemirror_mode": {
    "name": "ipython",
    "version": 3
   },
   "file_extension": ".py",
   "mimetype": "text/x-python",
   "name": "python",
   "nbconvert_exporter": "python",
   "pygments_lexer": "ipython3",
   "version": "3.11.9"
  }
 },
 "nbformat": 4,
 "nbformat_minor": 2
}
